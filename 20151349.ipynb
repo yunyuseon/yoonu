{
  "nbformat": 4,
  "nbformat_minor": 0,
  "metadata": {
    "kernelspec": {
      "display_name": "Python 3",
      "language": "python",
      "name": "python3"
    },
    "language_info": {
      "codemirror_mode": {
        "name": "ipython",
        "version": 3
      },
      "file_extension": ".py",
      "mimetype": "text/x-python",
      "name": "python",
      "nbconvert_exporter": "python",
      "pygments_lexer": "ipython3",
      "version": "3.7.4"
    },
    "colab": {
      "name": "20151349.ipynb",
      "provenance": [],
      "collapsed_sections": [],
      "include_colab_link": true
    }
  },
  "cells": [
    {
      "cell_type": "markdown",
      "metadata": {
        "id": "view-in-github",
        "colab_type": "text"
      },
      "source": [
        "<a href=\"https://colab.research.google.com/github/yunyuseon/yoonu/blob/master/20151349.ipynb\" target=\"_parent\"><img src=\"https://colab.research.google.com/assets/colab-badge.svg\" alt=\"Open In Colab\"/></a>"
      ]
    },
    {
      "cell_type": "markdown",
      "metadata": {
        "id": "b5OXkWJUHfJV",
        "colab_type": "text"
      },
      "source": [
        "# AIP2 Assignment 1\n",
        "## Function Practice Exercises\n",
        "\n",
        "## Subimssion method and Why do we have to ??: \n",
        "* I will explain in Lab. session.^^   "
      ]
    },
    {
      "cell_type": "code",
      "metadata": {
        "id": "Qo6Hzs53HqqH",
        "colab_type": "code",
        "colab": {}
      },
      "source": [
        "Student ID: 20151349 Student name: Yun, Yu-Seon"
      ],
      "execution_count": 0,
      "outputs": []
    },
    {
      "cell_type": "markdown",
      "metadata": {
        "id": "Xk0NPFd_HfJZ",
        "colab_type": "text"
      },
      "source": [
        "## Problem 1 (10 pts)"
      ]
    },
    {
      "cell_type": "markdown",
      "metadata": {
        "id": "sgxVXlecHfJc",
        "colab_type": "text"
      },
      "source": [
        "Write code that, given x (an integer), returns the string \"three\" if x is a multiple of 3, \"five\" if x is a\n",
        "    multiple of 5 and the string \"threefive\" if x is a multiple of both 3 and 5.\n",
        "    If none of those conditions are true, simply return x.\n",
        "    You may assume that your input is an integer >= 1\n"
      ]
    },
    {
      "cell_type": "code",
      "metadata": {
        "id": "qkuTs85UHfJe",
        "colab_type": "code",
        "outputId": "aa40b486-bbd5-4d8d-a479-db8fa99f558f",
        "colab": {
          "base_uri": "https://localhost:8080/",
          "height": 34
        }
      },
      "source": [
        "def own_function(x):\n",
        "  if(x%15==0):\n",
        "    print(\"threefive\") \n",
        "  else:\n",
        "    if(x%3==0):\n",
        "      print(\"three\")\n",
        "    if(x%5==0):\n",
        "      print(\"five\")\n",
        "    if(x%3!=0 and x%5!=0):\n",
        "      print(x)\n",
        "  \n",
        "  \n",
        "  "
      ],
      "execution_count": 62,
      "outputs": [
        {
          "output_type": "stream",
          "text": [
            "ERROR! Session/line number was not unique in database. History logging moved to new session 87\n"
          ],
          "name": "stdout"
        }
      ]
    },
    {
      "cell_type": "code",
      "metadata": {
        "id": "Xb_-OdlfHfJq",
        "colab_type": "code",
        "colab": {
          "base_uri": "https://localhost:8080/",
          "height": 34
        },
        "outputId": "886ffdc0-01e5-4cd0-bb15-e0e2f817a357"
      },
      "source": [
        "# Check\n",
        "own_function(3)"
      ],
      "execution_count": 63,
      "outputs": [
        {
          "output_type": "stream",
          "text": [
            "three\n"
          ],
          "name": "stdout"
        }
      ]
    },
    {
      "cell_type": "code",
      "metadata": {
        "id": "hDblK_-DHfJ0",
        "colab_type": "code",
        "colab": {
          "base_uri": "https://localhost:8080/",
          "height": 34
        },
        "outputId": "0682b22a-6a9f-4e48-fc91-f224487b3230"
      },
      "source": [
        "# Check\n",
        "own_function(15)"
      ],
      "execution_count": 64,
      "outputs": [
        {
          "output_type": "stream",
          "text": [
            "threefive\n"
          ],
          "name": "stdout"
        }
      ]
    },
    {
      "cell_type": "code",
      "metadata": {
        "id": "H1fouy2IHfJ8",
        "colab_type": "code",
        "colab": {
          "base_uri": "https://localhost:8080/",
          "height": 34
        },
        "outputId": "a23874bc-2579-4dcf-d931-486ed37ae54b"
      },
      "source": [
        "# Check\n",
        "own_function(7)"
      ],
      "execution_count": 65,
      "outputs": [
        {
          "output_type": "stream",
          "text": [
            "7\n"
          ],
          "name": "stdout"
        }
      ]
    },
    {
      "cell_type": "markdown",
      "metadata": {
        "id": "y1ShLrT0HfKC",
        "colab_type": "text"
      },
      "source": [
        "## Problem 2 (10 pts)"
      ]
    },
    {
      "cell_type": "markdown",
      "metadata": {
        "id": "D8uzI7SQHfKD",
        "colab_type": "text"
      },
      "source": [
        "#### FIND 33: \n",
        "\n",
        "Given a list of ints, return True if the array contains a 3 next to a 3 somewhere.\n",
        "\n",
        "    own_function([1, 3, 3]) → True\n",
        "    own_function([3, 1, 3]) → False\n",
        "    own_function([1, 3, 1, 3]) → False"
      ]
    },
    {
      "cell_type": "code",
      "metadata": {
        "id": "SezaEI6DHfKE",
        "colab_type": "code",
        "colab": {}
      },
      "source": [
        "def own_function(nums):\n",
        " nums=[a,b,c]\n",
        " if(a==b==3 or b==c==3):\n",
        "   print(\"True\")\n",
        " else:\n",
        "   print(\"False\")\n"
      ],
      "execution_count": 0,
      "outputs": []
    },
    {
      "cell_type": "code",
      "metadata": {
        "id": "g-0BaXbxHfKH",
        "colab_type": "code",
        "colab": {
          "base_uri": "https://localhost:8080/",
          "height": 283
        },
        "outputId": "f1b09232-4698-4154-afa5-bfa5bf2a8cf5"
      },
      "source": [
        "# Check\n",
        "own_function([1, 3, 3])"
      ],
      "execution_count": 72,
      "outputs": [
        {
          "output_type": "error",
          "ename": "NameError",
          "evalue": "ignored",
          "traceback": [
            "\u001b[0;31m---------------------------------------------------------------------------\u001b[0m",
            "\u001b[0;31mNameError\u001b[0m                                 Traceback (most recent call last)",
            "\u001b[0;32m<ipython-input-72-f3b320aebfb1>\u001b[0m in \u001b[0;36m<module>\u001b[0;34m()\u001b[0m\n\u001b[0;32m----> 1\u001b[0;31m \u001b[0mown_function\u001b[0m\u001b[0;34m(\u001b[0m\u001b[0;34m[\u001b[0m\u001b[0;36m1\u001b[0m\u001b[0;34m,\u001b[0m \u001b[0;36m3\u001b[0m\u001b[0;34m,\u001b[0m \u001b[0;36m3\u001b[0m\u001b[0;34m]\u001b[0m\u001b[0;34m)\u001b[0m\u001b[0;34m\u001b[0m\u001b[0;34m\u001b[0m\u001b[0m\n\u001b[0m",
            "\u001b[0;32m<ipython-input-71-ef3a66cdd2fa>\u001b[0m in \u001b[0;36mown_function\u001b[0;34m(nums)\u001b[0m\n\u001b[1;32m      1\u001b[0m \u001b[0;32mdef\u001b[0m \u001b[0mown_function\u001b[0m\u001b[0;34m(\u001b[0m\u001b[0mnums\u001b[0m\u001b[0;34m)\u001b[0m\u001b[0;34m:\u001b[0m\u001b[0;34m\u001b[0m\u001b[0;34m\u001b[0m\u001b[0m\n\u001b[0;32m----> 2\u001b[0;31m  \u001b[0mnums\u001b[0m\u001b[0;34m=\u001b[0m\u001b[0;34m[\u001b[0m\u001b[0ma\u001b[0m\u001b[0;34m,\u001b[0m\u001b[0mb\u001b[0m\u001b[0;34m,\u001b[0m\u001b[0mc\u001b[0m\u001b[0;34m]\u001b[0m\u001b[0;34m\u001b[0m\u001b[0;34m\u001b[0m\u001b[0m\n\u001b[0m\u001b[1;32m      3\u001b[0m  \u001b[0;32mif\u001b[0m\u001b[0;34m(\u001b[0m\u001b[0ma\u001b[0m\u001b[0;34m==\u001b[0m\u001b[0mb\u001b[0m\u001b[0;34m==\u001b[0m\u001b[0;36m3\u001b[0m \u001b[0;32mor\u001b[0m \u001b[0mb\u001b[0m\u001b[0;34m==\u001b[0m\u001b[0mc\u001b[0m\u001b[0;34m==\u001b[0m\u001b[0;36m3\u001b[0m\u001b[0;34m)\u001b[0m\u001b[0;34m:\u001b[0m\u001b[0;34m\u001b[0m\u001b[0;34m\u001b[0m\u001b[0m\n\u001b[1;32m      4\u001b[0m    \u001b[0mprint\u001b[0m\u001b[0;34m(\u001b[0m\u001b[0;34m\"True\"\u001b[0m\u001b[0;34m)\u001b[0m\u001b[0;34m\u001b[0m\u001b[0;34m\u001b[0m\u001b[0m\n\u001b[1;32m      5\u001b[0m  \u001b[0;32melse\u001b[0m\u001b[0;34m:\u001b[0m\u001b[0;34m\u001b[0m\u001b[0;34m\u001b[0m\u001b[0m\n",
            "\u001b[0;31mNameError\u001b[0m: name 'c' is not defined"
          ]
        }
      ]
    },
    {
      "cell_type": "code",
      "metadata": {
        "id": "GowwMl4ZHfKK",
        "colab_type": "code",
        "colab": {}
      },
      "source": [
        "# Check\n",
        "own_function([3, 1, 3])"
      ],
      "execution_count": 0,
      "outputs": []
    },
    {
      "cell_type": "markdown",
      "metadata": {
        "id": "7B8ETlTjHfKN",
        "colab_type": "text"
      },
      "source": [
        "## Problem 3 (10 pts)"
      ]
    },
    {
      "cell_type": "markdown",
      "metadata": {
        "id": "_DuJOnFnHfKO",
        "colab_type": "text"
      },
      "source": [
        "Write code that, given `my_str`, returns True if that string is a palindrome,\n",
        "and False otherwise.\n",
        "A palindrome is a word/phrase that is the same backwards as forwards (e.g. \"aa\").\n",
        "Single-letter strings (e.g. \"I\") should be considered palindromes\n",
        "You may assume that the input is a valid, lower-case string. However, the string\n",
        "might have white-space, which you should remove.\n",
        "HINT: If the first and last letters don't match, you know for a fact that the string\n",
        "can't be a palidrome. Use your control flow tools to make your code more efficient\n",
        "by stopping execution as soon as you know the answer."
      ]
    },
    {
      "cell_type": "code",
      "metadata": {
        "id": "fiSZ-yJtHfKO",
        "colab_type": "code",
        "colab": {}
      },
      "source": [
        "def own_function(my_str):\n",
        "    \"\"\" Parameters\n",
        "        ----------\n",
        "        my_str : str\n",
        "            The word/phrase to be analyzed\n",
        "        Returns\n",
        "        -------\n",
        "        True if my_str is a palindrome, False otherwise.\n",
        "    \"\"\"\n",
        "    # Remove 'pass' and place your code here\"\n",
        "    pass"
      ],
      "execution_count": 0,
      "outputs": []
    },
    {
      "cell_type": "code",
      "metadata": {
        "id": "TmrR9_uSHfKR",
        "colab_type": "code",
        "colab": {}
      },
      "source": [
        "# Check\n",
        "own_function('evil is a deed as i live')"
      ],
      "execution_count": 0,
      "outputs": []
    },
    {
      "cell_type": "code",
      "metadata": {
        "id": "Te4nUxpgHfKU",
        "colab_type": "code",
        "colab": {}
      },
      "source": [
        "# Check\n",
        "own_function('python')"
      ],
      "execution_count": 0,
      "outputs": []
    },
    {
      "cell_type": "markdown",
      "metadata": {
        "id": "gZRWRFrMHfKZ",
        "colab_type": "text"
      },
      "source": [
        "## Problem 4 (10 pts)"
      ]
    },
    {
      "cell_type": "markdown",
      "metadata": {
        "id": "QgrLIeOyHfKZ",
        "colab_type": "text"
      },
      "source": [
        "#### BLACKJACK: Given three integers between 1 and 11, if their sum is less than or equal to 21, return their sum. If their sum exceeds 21 *and* there's an eleven, reduce the total sum by 10. Finally, if the sum (even after adjustment) exceeds 21, return 'BUST'\n",
        "    own_function(5,6,7) --> 18\n",
        "    own_function(9,9,11) --> 19\n",
        "    own_function(9,9,9) --> 'BUST'"
      ]
    },
    {
      "cell_type": "code",
      "metadata": {
        "id": "c1d1sH2wHfKa",
        "colab_type": "code",
        "colab": {}
      },
      "source": [
        "def own_function(a,b,c):\n",
        "    ''' \n",
        "    Wirte your codes in here\n",
        "    '''\n",
        "    # REMOVE \"pass\" AND WRITE YOUR CODE HERE    \n",
        "    \n",
        "    pass"
      ],
      "execution_count": 0,
      "outputs": []
    },
    {
      "cell_type": "code",
      "metadata": {
        "id": "BlfchQtmHfKd",
        "colab_type": "code",
        "colab": {}
      },
      "source": [
        "# Check\n",
        "own_function(5,6,7)"
      ],
      "execution_count": 0,
      "outputs": []
    },
    {
      "cell_type": "code",
      "metadata": {
        "id": "gNNtmHgQHfKg",
        "colab_type": "code",
        "colab": {}
      },
      "source": [
        "# Check\n",
        "own_function(9,9,9)"
      ],
      "execution_count": 0,
      "outputs": []
    },
    {
      "cell_type": "markdown",
      "metadata": {
        "id": "QchoTXgtHfKm",
        "colab_type": "text"
      },
      "source": [
        "## Problem 5 (10 pts)"
      ]
    },
    {
      "cell_type": "markdown",
      "metadata": {
        "id": "kgS7Q-luHfKn",
        "colab_type": "text"
      },
      "source": [
        "#### Solve a program to implement the formulae of Permutations and Combinations\n",
        "    permutation : n taken r at a time, permutation(n, r) = n!/(n-r)!\n",
        "    combination : n taken r at a time, combination(n, r) = c!/(n-r)!*r!"
      ]
    },
    {
      "cell_type": "code",
      "metadata": {
        "id": "K0Z19GBgHfKo",
        "colab_type": "code",
        "colab": {}
      },
      "source": [
        "import math   # built-in function \n",
        "# factorial function : math.factorial()\n",
        "def permutation(n, r) :\n",
        "    # function to calculate number of permutations of a number taken r at a time\n",
        "    # Remove 'pass' and place your code here\"\n",
        "    pass\n",
        "\n",
        "def combination(n, r) :\n",
        "    # function to calculate number of combinations of a number taken r at a time\n",
        "    # Remove 'pass' and place your code here\"\n",
        "    pass\n",
        "\n",
        "\n",
        "try : \n",
        "    n = int(input('Enter a number : '))\n",
        "    r = int( input('Enter another number : '))\n",
        "except (ValueError) : \n",
        "    print('Please enter an integer!')\n",
        "\n",
        "if(n >= r) :\n",
        "    print('Permutation : ', permutation(n,r))\n",
        "    print('Combination : ', combination(n,r))\n",
        "else :\n",
        "    print('Permutation and combination can\\'t be defined')\n"
      ],
      "execution_count": 0,
      "outputs": []
    },
    {
      "cell_type": "code",
      "metadata": {
        "id": "lDCHvDgQHfKq",
        "colab_type": "code",
        "colab": {}
      },
      "source": [
        "# Check your result :: n = 25, r = 6 \n"
      ],
      "execution_count": 0,
      "outputs": []
    },
    {
      "cell_type": "code",
      "metadata": {
        "id": "6mURLCjVHfKt",
        "colab_type": "code",
        "colab": {}
      },
      "source": [
        "# Check your result :: n = -1, r = 3\n"
      ],
      "execution_count": 0,
      "outputs": []
    },
    {
      "cell_type": "markdown",
      "metadata": {
        "id": "Cm9EgMbmHfKv",
        "colab_type": "text"
      },
      "source": [
        "## Good Job !!!  "
      ]
    },
    {
      "cell_type": "code",
      "metadata": {
        "id": "qdx7PqlqHfKw",
        "colab_type": "code",
        "colab": {}
      },
      "source": [
        ""
      ],
      "execution_count": 0,
      "outputs": []
    }
  ]
}